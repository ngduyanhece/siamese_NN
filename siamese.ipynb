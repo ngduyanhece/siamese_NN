{
 "cells": [
  {
   "cell_type": "code",
   "execution_count": 1,
   "metadata": {},
   "outputs": [
    {
     "name": "stderr",
     "output_type": "stream",
     "text": [
      "Couldn't import dot_parser, loading of dot files will not be possible.\n"
     ]
    }
   ],
   "source": [
    "import tensorflow as tf\n",
    "from tensorflow.examples.tutorials.mnist import input_data\n",
    "import numpy as np"
   ]
  },
  {
   "cell_type": "code",
   "execution_count": 2,
   "metadata": {},
   "outputs": [
    {
     "name": "stdout",
     "output_type": "stream",
     "text": [
      "Successfully downloaded train-images-idx3-ubyte.gz 9912422 bytes.\n",
      "Extracting MNIST_data/train-images-idx3-ubyte.gz\n",
      "Successfully downloaded train-labels-idx1-ubyte.gz 28881 bytes.\n",
      "Extracting MNIST_data/train-labels-idx1-ubyte.gz\n",
      "Successfully downloaded t10k-images-idx3-ubyte.gz 1648877 bytes.\n",
      "Extracting MNIST_data/t10k-images-idx3-ubyte.gz\n",
      "Successfully downloaded t10k-labels-idx1-ubyte.gz 4542 bytes.\n",
      "Extracting MNIST_data/t10k-labels-idx1-ubyte.gz\n"
     ]
    }
   ],
   "source": [
    "mnist = input_data.read_data_sets(\"MNIST_data/\", one_hot=False)"
   ]
  },
  {
   "cell_type": "code",
   "execution_count": 3,
   "metadata": {},
   "outputs": [],
   "source": [
    "def create_siamese_training_data(label):\n",
    "    mnist_train = mnist.train.next_batch(10000)\n",
    "    mnist_train_data = mnist_train[0]\n",
    "    mnist_train_labels = mnist_train[1]\n",
    "    #get all the mnist data with labels is 2\n",
    "    mnist_two = mnist_train_data[mnist_train_labels==label]\n",
    "    mnist_train_two = mnist_two[:-100]\n",
    "    mnist_test_two = mnist_two[-100:]\n",
    "    mnist_other_than_two = mnist_train_data[mnist_train_labels!=label]\n",
    "    mnist_train_other_than_two = mnist_other_than_two[:-100]\n",
    "    mnist_test_other_than_two = mnist_other_than_two[-100:]\n",
    "    N_train = len(mnist_train_two)\n",
    "    N_test = len(mnist_test_two)\n",
    "    X_train_1 = np.concatenate((mnist_train_two,mnist_train_two),axis=0)\n",
    "    Y_train_1 = np.ones(shape=(len(mnist_train_two)))\n",
    "    X_train_2 = np.concatenate((mnist_train_two,mnist_train_other_than_two[0:N_train]),axis=0)\n",
    "    Y_train_2 = np.zeros(shape=(len(mnist_train_other_than_two[0:N_train])))\n",
    "    Y_train = np.concatenate((Y_train_1,Y_train_2))\n",
    "    X_test_1 = np.concatenate((mnist_test_two,mnist_test_two),axis=0)\n",
    "    Y_test_1 = np.ones(shape=(len(mnist_train_two)))\n",
    "    X_test_2 = np.concatenate((mnist_test_two,mnist_test_other_than_two[0:N_test]),axis=0)\n",
    "    Y_test_2 = np.zeros(shape=(len(mnist_test_other_than_two[0:N_test])))\n",
    "    Y_test = np.concatenate((Y_test_1,Y_test_2))\n",
    "    return X_train_1,X_train_2,Y_train,X_test_1,X_test_2,Y_test"
   ]
  },
  {
   "cell_type": "code",
   "execution_count": 4,
   "metadata": {
    "collapsed": true
   },
   "outputs": [],
   "source": [
    "def acc(label,predict):\n",
    "    return np.mean(label==predict)"
   ]
  },
  {
   "cell_type": "code",
   "execution_count": 5,
   "metadata": {},
   "outputs": [],
   "source": [
    "X_train_1,X_train_2,Y_train,X_test_1,X_test_2,Y_test = create_siamese_training_data(2)"
   ]
  },
  {
   "cell_type": "code",
   "execution_count": 6,
   "metadata": {},
   "outputs": [],
   "source": [
    "tf.reset_default_graph()\n",
    "tf_X1 = tf.placeholder(tf.float32, [None, 784])\n",
    "tf_X2 = tf.placeholder(tf.float32, [None, 784])\n",
    "tf_Y = tf.placeholder(tf.int32, [None])\n",
    "W1_1 = tf.get_variable(name='W11',shape=(784,128),initializer=tf.random_normal_initializer())\n",
    "b1_1 = tf.get_variable(name='b11',shape=(128),initializer=tf.zeros_initializer())\n",
    "W1_2 = tf.get_variable(name='W12',shape=(784,128),initializer=tf.random_normal_initializer())\n",
    "b1_2 = tf.get_variable(name='b12',shape=(128),initializer=tf.zeros_initializer())\n",
    "W2 = tf.get_variable(name='W2',shape=(128,2),initializer=tf.random_normal_initializer())\n",
    "b2 = tf.get_variable(name='b2',shape=(2),initializer=tf.zeros_initializer())"
   ]
  },
  {
   "cell_type": "code",
   "execution_count": 7,
   "metadata": {},
   "outputs": [
    {
     "data": {
      "text/plain": [
       "(200, 784)"
      ]
     },
     "execution_count": 7,
     "metadata": {},
     "output_type": "execute_result"
    }
   ],
   "source": [
    "X_test_2.shape"
   ]
  },
  {
   "cell_type": "code",
   "execution_count": 8,
   "metadata": {},
   "outputs": [],
   "source": [
    "Z1_1 = tf.nn.relu(tf.add(tf.matmul(tf_X1,W1_1),b1_1))\n",
    "Z1_2 = tf.nn.relu(tf.add(tf.matmul(tf_X2,W1_2),b1_2))\n",
    "Z = tf.abs(tf.subtract(Z1_1,Z1_2))\n",
    "logits = tf.add(tf.matmul(Z,W2),b2)\n",
    "loss = tf.reduce_mean(tf.nn.softmax_cross_entropy_with_logits(logits=logits,labels=tf.one_hot(tf_Y,2)))\n",
    "train_op = tf.train.GradientDescentOptimizer(1e-4).minimize(loss)\n",
    "predict_op = tf.argmax(tf.nn.softmax(logits),axis=1)\n",
    "init_op = tf.global_variables_initializer()"
   ]
  },
  {
   "cell_type": "code",
   "execution_count": 9,
   "metadata": {},
   "outputs": [
    {
     "name": "stdout",
     "output_type": "stream",
     "text": [
      "epoch: 0 ----- loss: 40.10014343261719 ------ train acc: 0.5 ----- test acc: 0.744\n",
      "epoch: 100 ----- loss: 29.495107650756836 ------ train acc: 0.5 ----- test acc: 0.628\n",
      "epoch: 200 ----- loss: 25.737777709960938 ------ train acc: 0.5 ----- test acc: 0.556\n",
      "epoch: 300 ----- loss: 24.021730422973633 ------ train acc: 0.5 ----- test acc: 0.524\n",
      "epoch: 400 ----- loss: 22.89626693725586 ------ train acc: 0.5 ----- test acc: 0.508\n",
      "epoch: 500 ----- loss: 21.973880767822266 ------ train acc: 0.5 ----- test acc: 0.5\n",
      "epoch: 600 ----- loss: 21.146835327148438 ------ train acc: 0.5 ----- test acc: 0.496\n",
      "epoch: 700 ----- loss: 20.356935501098633 ------ train acc: 0.5 ----- test acc: 0.496\n",
      "epoch: 800 ----- loss: 19.626808166503906 ------ train acc: 0.5 ----- test acc: 0.496\n",
      "epoch: 900 ----- loss: 18.954050064086914 ------ train acc: 0.5 ----- test acc: 0.488\n",
      "epoch: 1000 ----- loss: 18.337726593017578 ------ train acc: 0.5 ----- test acc: 0.484\n",
      "epoch: 1100 ----- loss: 17.7769775390625 ------ train acc: 0.5 ----- test acc: 0.496\n",
      "epoch: 1200 ----- loss: 17.253293991088867 ------ train acc: 0.5 ----- test acc: 0.496\n",
      "epoch: 1300 ----- loss: 16.765296936035156 ------ train acc: 0.5 ----- test acc: 0.496\n",
      "epoch: 1400 ----- loss: 16.304828643798828 ------ train acc: 0.5 ----- test acc: 0.504\n",
      "epoch: 1500 ----- loss: 15.873455047607422 ------ train acc: 0.5 ----- test acc: 0.504\n",
      "epoch: 1600 ----- loss: 15.466437339782715 ------ train acc: 0.5 ----- test acc: 0.508\n",
      "epoch: 1700 ----- loss: 15.086019515991211 ------ train acc: 0.5 ----- test acc: 0.508\n",
      "epoch: 1800 ----- loss: 14.731395721435547 ------ train acc: 0.5 ----- test acc: 0.508\n",
      "epoch: 1900 ----- loss: 14.397697448730469 ------ train acc: 0.5 ----- test acc: 0.504\n",
      "epoch: 2000 ----- loss: 14.076547622680664 ------ train acc: 0.5 ----- test acc: 0.5\n",
      "epoch: 2100 ----- loss: 13.763797760009766 ------ train acc: 0.5 ----- test acc: 0.496\n",
      "epoch: 2200 ----- loss: 13.464766502380371 ------ train acc: 0.5 ----- test acc: 0.496\n",
      "epoch: 2300 ----- loss: 13.178183555603027 ------ train acc: 0.5 ----- test acc: 0.488\n",
      "epoch: 2400 ----- loss: 12.904050827026367 ------ train acc: 0.5 ----- test acc: 0.488\n",
      "epoch: 2500 ----- loss: 12.639370918273926 ------ train acc: 0.5 ----- test acc: 0.476\n",
      "epoch: 2600 ----- loss: 12.380292892456055 ------ train acc: 0.5 ----- test acc: 0.476\n",
      "epoch: 2700 ----- loss: 12.128287315368652 ------ train acc: 0.5 ----- test acc: 0.476\n",
      "epoch: 2800 ----- loss: 11.885519981384277 ------ train acc: 0.5 ----- test acc: 0.476\n",
      "epoch: 2900 ----- loss: 11.65121078491211 ------ train acc: 0.5 ----- test acc: 0.472\n",
      "epoch: 3000 ----- loss: 11.425012588500977 ------ train acc: 0.5 ----- test acc: 0.476\n",
      "epoch: 3100 ----- loss: 11.206734657287598 ------ train acc: 0.5 ----- test acc: 0.476\n",
      "epoch: 3200 ----- loss: 10.998615264892578 ------ train acc: 0.5 ----- test acc: 0.476\n",
      "epoch: 3300 ----- loss: 10.801461219787598 ------ train acc: 0.5 ----- test acc: 0.472\n",
      "epoch: 3400 ----- loss: 10.613578796386719 ------ train acc: 0.5 ----- test acc: 0.476\n",
      "epoch: 3500 ----- loss: 10.43419361114502 ------ train acc: 0.5 ----- test acc: 0.476\n",
      "epoch: 3600 ----- loss: 10.26085090637207 ------ train acc: 0.5 ----- test acc: 0.476\n",
      "epoch: 3700 ----- loss: 10.092205047607422 ------ train acc: 0.5 ----- test acc: 0.476\n",
      "epoch: 3800 ----- loss: 9.928634643554688 ------ train acc: 0.5 ----- test acc: 0.48\n",
      "epoch: 3900 ----- loss: 9.770943641662598 ------ train acc: 0.5 ----- test acc: 0.48\n",
      "epoch: 4000 ----- loss: 9.62031078338623 ------ train acc: 0.5 ----- test acc: 0.48\n",
      "epoch: 4100 ----- loss: 9.47597885131836 ------ train acc: 0.5 ----- test acc: 0.48\n",
      "epoch: 4200 ----- loss: 9.336037635803223 ------ train acc: 0.5 ----- test acc: 0.484\n",
      "epoch: 4300 ----- loss: 9.199149131774902 ------ train acc: 0.5 ----- test acc: 0.484\n",
      "epoch: 4400 ----- loss: 9.066080093383789 ------ train acc: 0.5 ----- test acc: 0.484\n",
      "epoch: 4500 ----- loss: 8.937089920043945 ------ train acc: 0.5 ----- test acc: 0.484\n",
      "epoch: 4600 ----- loss: 8.811871528625488 ------ train acc: 0.5 ----- test acc: 0.484\n",
      "epoch: 4700 ----- loss: 8.690107345581055 ------ train acc: 0.5 ----- test acc: 0.484\n",
      "epoch: 4800 ----- loss: 8.572284698486328 ------ train acc: 0.5 ----- test acc: 0.484\n",
      "epoch: 4900 ----- loss: 8.45761489868164 ------ train acc: 0.5 ----- test acc: 0.484\n",
      "epoch: 5000 ----- loss: 8.346426010131836 ------ train acc: 0.5 ----- test acc: 0.484\n",
      "epoch: 5100 ----- loss: 8.238779067993164 ------ train acc: 0.5 ----- test acc: 0.488\n",
      "epoch: 5200 ----- loss: 8.13418197631836 ------ train acc: 0.5 ----- test acc: 0.488\n",
      "epoch: 5300 ----- loss: 8.031454086303711 ------ train acc: 0.5 ----- test acc: 0.488\n",
      "epoch: 5400 ----- loss: 7.9308648109436035 ------ train acc: 0.5 ----- test acc: 0.492\n",
      "epoch: 5500 ----- loss: 7.832337379455566 ------ train acc: 0.5 ----- test acc: 0.492\n",
      "epoch: 5600 ----- loss: 7.736525058746338 ------ train acc: 0.5 ----- test acc: 0.496\n",
      "epoch: 5700 ----- loss: 7.6438374519348145 ------ train acc: 0.5 ----- test acc: 0.496\n",
      "epoch: 5800 ----- loss: 7.554089546203613 ------ train acc: 0.5 ----- test acc: 0.496\n",
      "epoch: 5900 ----- loss: 7.467128276824951 ------ train acc: 0.5 ----- test acc: 0.496\n",
      "epoch: 6000 ----- loss: 7.382065773010254 ------ train acc: 0.5 ----- test acc: 0.496\n",
      "epoch: 6100 ----- loss: 7.298995018005371 ------ train acc: 0.5 ----- test acc: 0.496\n",
      "epoch: 6200 ----- loss: 7.21809196472168 ------ train acc: 0.5 ----- test acc: 0.496\n",
      "epoch: 6300 ----- loss: 7.139101505279541 ------ train acc: 0.5 ----- test acc: 0.496\n",
      "epoch: 6400 ----- loss: 7.061870098114014 ------ train acc: 0.5 ----- test acc: 0.496\n",
      "epoch: 6500 ----- loss: 6.986721992492676 ------ train acc: 0.5 ----- test acc: 0.488\n",
      "epoch: 6600 ----- loss: 6.913427829742432 ------ train acc: 0.5 ----- test acc: 0.488\n",
      "epoch: 6700 ----- loss: 6.8419189453125 ------ train acc: 0.5 ----- test acc: 0.492\n",
      "epoch: 6800 ----- loss: 6.77197790145874 ------ train acc: 0.5 ----- test acc: 0.496\n",
      "epoch: 6900 ----- loss: 6.703933238983154 ------ train acc: 0.5 ----- test acc: 0.496\n",
      "epoch: 7000 ----- loss: 6.637392520904541 ------ train acc: 0.5 ----- test acc: 0.492\n",
      "epoch: 7100 ----- loss: 6.572656154632568 ------ train acc: 0.5 ----- test acc: 0.496\n",
      "epoch: 7200 ----- loss: 6.509182929992676 ------ train acc: 0.5 ----- test acc: 0.496\n",
      "epoch: 7300 ----- loss: 6.4466962814331055 ------ train acc: 0.5 ----- test acc: 0.496\n",
      "epoch: 7400 ----- loss: 6.385485649108887 ------ train acc: 0.5 ----- test acc: 0.496\n",
      "epoch: 7500 ----- loss: 6.325678825378418 ------ train acc: 0.5 ----- test acc: 0.496\n",
      "epoch: 7600 ----- loss: 6.267411708831787 ------ train acc: 0.5 ----- test acc: 0.496\n",
      "epoch: 7700 ----- loss: 6.2104926109313965 ------ train acc: 0.5 ----- test acc: 0.496\n",
      "epoch: 7800 ----- loss: 6.154825210571289 ------ train acc: 0.5 ----- test acc: 0.496\n",
      "epoch: 7900 ----- loss: 6.100114822387695 ------ train acc: 0.5 ----- test acc: 0.496\n",
      "epoch: 8000 ----- loss: 6.046309471130371 ------ train acc: 0.5 ----- test acc: 0.496\n",
      "epoch: 8100 ----- loss: 5.993368148803711 ------ train acc: 0.5 ----- test acc: 0.5\n",
      "epoch: 8200 ----- loss: 5.941133499145508 ------ train acc: 0.5 ----- test acc: 0.504\n",
      "epoch: 8300 ----- loss: 5.88938045501709 ------ train acc: 0.5 ----- test acc: 0.504\n",
      "epoch: 8400 ----- loss: 5.838482856750488 ------ train acc: 0.5 ----- test acc: 0.504\n",
      "epoch: 8500 ----- loss: 5.788337707519531 ------ train acc: 0.5 ----- test acc: 0.504\n",
      "epoch: 8600 ----- loss: 5.739043712615967 ------ train acc: 0.5 ----- test acc: 0.504\n",
      "epoch: 8700 ----- loss: 5.690358638763428 ------ train acc: 0.5 ----- test acc: 0.504\n",
      "epoch: 8800 ----- loss: 5.642430782318115 ------ train acc: 0.5 ----- test acc: 0.504\n",
      "epoch: 8900 ----- loss: 5.59515905380249 ------ train acc: 0.5 ----- test acc: 0.504\n",
      "epoch: 9000 ----- loss: 5.548478126525879 ------ train acc: 0.5 ----- test acc: 0.504\n",
      "epoch: 9100 ----- loss: 5.50247049331665 ------ train acc: 0.5 ----- test acc: 0.504\n",
      "epoch: 9200 ----- loss: 5.456885814666748 ------ train acc: 0.5 ----- test acc: 0.504\n",
      "epoch: 9300 ----- loss: 5.411683559417725 ------ train acc: 0.5 ----- test acc: 0.504\n",
      "epoch: 9400 ----- loss: 5.367053985595703 ------ train acc: 0.5 ----- test acc: 0.504\n",
      "epoch: 9500 ----- loss: 5.322877407073975 ------ train acc: 0.5 ----- test acc: 0.504\n"
     ]
    },
    {
     "name": "stdout",
     "output_type": "stream",
     "text": [
      "epoch: 9600 ----- loss: 5.279184341430664 ------ train acc: 0.5 ----- test acc: 0.508\n",
      "epoch: 9700 ----- loss: 5.235838890075684 ------ train acc: 0.5 ----- test acc: 0.508\n",
      "epoch: 9800 ----- loss: 5.193149089813232 ------ train acc: 0.5 ----- test acc: 0.512\n",
      "epoch: 9900 ----- loss: 5.151261329650879 ------ train acc: 0.5 ----- test acc: 0.512\n"
     ]
    }
   ],
   "source": [
    "with tf.Session() as sess:\n",
    "    sess.run(init_op)\n",
    "    for epoch in range(10000):\n",
    "        _,l = sess.run([train_op,loss],feed_dict={\n",
    "            tf_X1: X_train_1,\n",
    "            tf_X2: X_train_2,\n",
    "            tf_Y: Y_train\n",
    "        })\n",
    "        if epoch % 100 == 0:\n",
    "            p_labels_train = sess.run(predict_op,feed_dict={\n",
    "                tf_X1:X_train_1,\n",
    "                tf_X2:X_train_2,\n",
    "                tf_Y: Y_train\n",
    "            })\n",
    "            p_labels_test = sess.run(predict_op,feed_dict={\n",
    "                tf_X1:X_test_1,\n",
    "                tf_X2:X_test_2,\n",
    "                tf_Y: Y_test\n",
    "            })\n",
    "            train_acc = acc(Y_train.reshape(-1,1),p_labels_train)\n",
    "            test_acc = acc(Y_test.reshape(-1,1),p_labels_test)\n",
    "            print(\"epoch: {} ----- loss: {} ------ train acc: {} ----- test acc: {}\".format(epoch,l,train_acc,test_acc))\n",
    "    "
   ]
  }
 ],
 "metadata": {
  "kernelspec": {
   "display_name": "Python 3",
   "language": "python",
   "name": "python3"
  },
  "language_info": {
   "codemirror_mode": {
    "name": "ipython",
    "version": 3
   },
   "file_extension": ".py",
   "mimetype": "text/x-python",
   "name": "python",
   "nbconvert_exporter": "python",
   "pygments_lexer": "ipython3",
   "version": "3.5.4"
  }
 },
 "nbformat": 4,
 "nbformat_minor": 2
}
