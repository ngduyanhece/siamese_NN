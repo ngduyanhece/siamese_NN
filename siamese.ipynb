{
 "cells": [
  {
   "cell_type": "code",
   "execution_count": null,
   "metadata": {},
   "outputs": [],
   "source": [
    "import tensorflow as tf\n",
    "from tensorflow.examples.tutorials.mnist import input_data\n",
    "import numpy as np"
   ]
  },
  {
   "cell_type": "code",
   "execution_count": null,
   "metadata": {},
   "outputs": [],
   "source": [
    "mnist = input_data.read_data_sets(\"MNIST_data/\", one_hot=False)"
   ]
  },
  {
   "cell_type": "code",
   "execution_count": null,
   "metadata": {},
   "outputs": [],
   "source": [
    "def create_siamese_training_data(label):\n",
    "    mnist_train = mnist.train.next_batch(10000)\n",
    "    mnist_train_data = mnist_train[0]\n",
    "    mnist_train_labels = mnist_train[1]\n",
    "    #get all the mnist data with labels is 2\n",
    "    mnist_two = mnist_train_data[mnist_train_labels==label]\n",
    "    mnist_train_two = mnist_two[:-100]\n",
    "    mnist_test_two = mnist_two[-100:]\n",
    "    mnist_other_than_two = mnist_train_data[mnist_train_labels!=label]\n",
    "    mnist_train_other_than_two = mnist_other_than_two[:-100]\n",
    "    mnist_test_other_than_two = mnist_other_than_two[-100:]\n",
    "    N_train = len(mnist_train_two)\n",
    "    N_test = len(mnist_test_two)\n",
    "    X_train_1 = np.concatenate((mnist_train_two,mnist_train_two),axis=0)\n",
    "    Y_train_1 = np.ones(shape=(len(mnist_train_two)))\n",
    "    X_train_2 = np.concatenate((mnist_train_two,mnist_train_other_than_two[0:N_train]),axis=0)\n",
    "    Y_train_2 = np.zeros(shape=(len(mnist_train_other_than_two[0:N_train])))\n",
    "    Y_train = np.concatenate((Y_train_1,Y_train_2))\n",
    "    X_test_1 = np.concatenate((mnist_test_two,mnist_test_two),axis=0)\n",
    "    Y_test_1 = np.ones(shape=(len(mnist_train_two)))\n",
    "    X_test_2 = np.concatenate((mnist_test_two,mnist_test_other_than_two[0:N_test]),axis=0)\n",
    "    Y_test_2 = np.zeros(shape=(len(mnist_test_other_than_two[0:N_test])))\n",
    "    Y_test = np.concatenate((Y_test_1,Y_test_2))\n",
    "    return X_train_1,X_train_2,Y_train,X_test_1,X_test_2,Y_test"
   ]
  },
  {
   "cell_type": "code",
   "execution_count": null,
   "metadata": {
    "collapsed": true
   },
   "outputs": [],
   "source": [
    "def acc(label,predict):\n",
    "    return np.mean(label==predict)"
   ]
  },
  {
   "cell_type": "code",
   "execution_count": null,
   "metadata": {},
   "outputs": [],
   "source": [
    "X_train_1,X_train_2,Y_train,X_test_1,X_test_2,Y_test = create_siamese_training_data(2)"
   ]
  },
  {
   "cell_type": "code",
   "execution_count": null,
   "metadata": {},
   "outputs": [],
   "source": [
    "tf.reset_default_graph()\n",
    "tf_X1 = tf.placeholder(tf.float32, [None, 784])\n",
    "tf_X2 = tf.placeholder(tf.float32, [None, 784])\n",
    "tf_Y = tf.placeholder(tf.int32, [None])\n",
    "W1_1 = tf.get_variable(name='W11',shape=(784,128),initializer=tf.random_normal_initializer())\n",
    "b1_1 = tf.get_variable(name='b11',shape=(128),initializer=tf.zeros_initializer())\n",
    "W1_2 = tf.get_variable(name='W12',shape=(784,128),initializer=tf.random_normal_initializer())\n",
    "b1_2 = tf.get_variable(name='b12',shape=(128),initializer=tf.zeros_initializer())\n",
    "W2 = tf.get_variable(name='W2',shape=(128,2),initializer=tf.random_normal_initializer())\n",
    "b2 = tf.get_variable(name='b2',shape=(2),initializer=tf.zeros_initializer())"
   ]
  },
  {
   "cell_type": "code",
   "execution_count": null,
   "metadata": {},
   "outputs": [],
   "source": [
    "X_test_2.shape"
   ]
  },
  {
   "cell_type": "code",
   "execution_count": null,
   "metadata": {},
   "outputs": [],
   "source": [
    "Z1_1 = tf.nn.relu(tf.add(tf.matmul(tf_X1,W1_1),b1_1))\n",
    "Z1_2 = tf.nn.relu(tf.add(tf.matmul(tf_X2,W1_2),b1_2))\n",
    "Z = tf.abs(tf.subtract(Z1_1,Z1_2))\n",
    "logits = tf.add(tf.matmul(Z,W2),b2)\n",
    "loss = tf.reduce_mean(tf.nn.softmax_cross_entropy_with_logits(logits=logits,labels=tf.one_hot(tf_Y,2)))\n",
    "train_op = tf.train.GradientDescentOptimizer(1e-4).minimize(loss)\n",
    "predict_op = tf.argmax(tf.nn.softmax(logits),axis=1)\n",
    "init_op = tf.global_variables_initializer()"
   ]
  },
  {
   "cell_type": "code",
   "execution_count": null,
   "metadata": {},
   "outputs": [],
   "source": [
    "with tf.Session() as sess:\n",
    "    sess.run(init_op)\n",
    "    for epoch in range(10000):\n",
    "        _,l = sess.run([train_op,loss],feed_dict={\n",
    "            tf_X1: X_train_1,\n",
    "            tf_X2: X_train_2,\n",
    "            tf_Y: Y_train\n",
    "        })\n",
    "        if epoch % 100 == 0:\n",
    "            p_labels_train = sess.run(predict_op,feed_dict={\n",
    "                tf_X1:X_train_1,\n",
    "                tf_X2:X_train_2,\n",
    "                tf_Y: Y_train\n",
    "            })\n",
    "            p_labels_test = sess.run(predict_op,feed_dict={\n",
    "                tf_X1:X_test_1,\n",
    "                tf_X2:X_test_2,\n",
    "                tf_Y: Y_test\n",
    "            })\n",
    "            train_acc = acc(Y_train.reshape(-1,1),p_labels_train)\n",
    "            test_acc = acc(Y_test.reshape(-1,1),p_labels_test)\n",
    "            print(\"epoch: {} ----- loss: {} ------ train acc: {} ----- test acc: {}\".format(epoch,l,train_acc,test_acc))\n",
    "    "
   ]
  }
 ],
 "metadata": {
  "kernelspec": {
   "display_name": "Python 3",
   "language": "python",
   "name": "python3"
  },
  "language_info": {
   "codemirror_mode": {
    "name": "ipython",
    "version": 3
   },
   "file_extension": ".py",
   "mimetype": "text/x-python",
   "name": "python",
   "nbconvert_exporter": "python",
   "pygments_lexer": "ipython3",
   "version": "3.5.4"
  }
 },
 "nbformat": 4,
 "nbformat_minor": 2
}
